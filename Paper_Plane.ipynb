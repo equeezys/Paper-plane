{
 "cells": [
  {
   "cell_type": "code",
   "execution_count": 2,
   "metadata": {
    "scrolled": false
   },
   "outputs": [],
   "source": [
    "import cv2\n",
    "import numpy as np\n",
    "import random\n",
    "\n",
    "# Take each frame\n",
    "frame = cv2.imread('field-3369348_960_720.jpg')\n",
    "facetmp = np.copy(frame)\n",
    "# Convert BGR to HSV\n",
    "hsv = cv2.cvtColor(frame, cv2.COLOR_BGR2HSV)\n",
    "\n",
    "# define range of blue color in HSV\n",
    "lower_blue = np.array([80,60,60])\n",
    "upper_blue = np.array([130,255,255])\n",
    "\n",
    "random.seed()\n",
    "\n",
    "# Threshold the HSV image to get only blue colors\n",
    "mask = cv2.inRange(hsv, lower_blue, upper_blue)\n",
    "\n",
    "# Bitwise-AND mask and original image\n",
    "res = cv2.bitwise_and(frame,frame, mask= mask)"
   ]
  },
  {
   "cell_type": "code",
   "execution_count": 3,
   "metadata": {
    "scrolled": true
   },
   "outputs": [
    {
     "name": "stdout",
     "output_type": "stream",
     "text": [
      "258 960\n"
     ]
    }
   ],
   "source": [
    "mask2 = mask.sum(axis=(1)).astype(int)\n",
    "t = mask2.max()\n",
    "mask2[mask2 == t] = 0\n",
    "MAX_Y = np.argmax(mask2)\n",
    "MAX_X = mask.shape[1]\n",
    "print(MAX_Y,MAX_X)"
   ]
  },
  {
   "cell_type": "code",
   "execution_count": 4,
   "metadata": {},
   "outputs": [
    {
     "data": {
      "text/plain": [
       "-1"
      ]
     },
     "execution_count": 4,
     "metadata": {},
     "output_type": "execute_result"
    }
   ],
   "source": [
    "cv2.imshow('mask',mask)\n",
    "cv2.imshow('res',res)\n",
    "cv2.imshow('frame',frame)\n",
    "cv2.waitKey()"
   ]
  },
  {
   "cell_type": "code",
   "execution_count": 6,
   "metadata": {},
   "outputs": [
    {
     "data": {
      "text/plain": [
       "-1"
      ]
     },
     "execution_count": 6,
     "metadata": {},
     "output_type": "execute_result"
    }
   ],
   "source": [
    "samolet = cv2.imread('plane2.png',-1)\n",
    "plane = cv2.resize(samolet,None,fx=1/10, fy=1/10, interpolation = cv2.INTER_CUBIC)\n",
    "cv2.imshow('plane',plane)\n",
    "MAX_X = MAX_X - plane.shape[1]\n",
    "cv2.waitKey()\n"
   ]
  },
  {
   "cell_type": "code",
   "execution_count": 7,
   "metadata": {},
   "outputs": [],
   "source": [
    "def blend_transparent(face_img, overlay_t_img):\n",
    "    # Split out the transparency mask from the colour info\n",
    "    overlay_img = overlay_t_img[:,:,:3] # Grab the BRG planes\n",
    "    overlay_mask = overlay_t_img[:,:,3:]  # And the alpha plane\n",
    "\n",
    "    # Again calculate the inverse mask\n",
    "    background_mask = 255 - overlay_mask\n",
    "\n",
    "    # Turn the masks into three channel, so we can use them as weights\n",
    "    overlay_mask = cv2.cvtColor(overlay_mask, cv2.COLOR_GRAY2BGR)\n",
    "    background_mask = cv2.cvtColor(background_mask, cv2.COLOR_GRAY2BGR)\n",
    "\n",
    "    # Create a masked out face image, and masked out overlay\n",
    "    # We convert the images to floating point in range 0.0 - 1.0\n",
    "    face_part = (face_img * (1 / 255.0)) * (background_mask * (1 / 255.0))\n",
    "    overlay_part = (overlay_img * (1 / 255.0)) * (overlay_mask * (1 / 255.0))\n",
    "\n",
    "    # And finally just add them together, and rescale it back to an 8bit integer image    \n",
    "    return np.uint8(cv2.addWeighted(face_part, 255.0, overlay_part, 255.0, 0.0))\n",
    "    #return face_part"
   ]
  },
  {
   "cell_type": "code",
   "execution_count": 8,
   "metadata": {},
   "outputs": [],
   "source": [
    "def printImage2(face_img, overlay_t_img,startY,startX):\n",
    "    result_2 = blend_transparent(facetmp[startX:startX + overlay_t_img.shape[0],startY:startY + overlay_t_img.shape[1]], overlay_t_img)\n",
    "    facetmp[startX:startX + overlay_t_img.shape[0],startY:startY + overlay_t_img.shape[1]]= result_2\n",
    "    #cv2.imshow('result',face_img[0:overlay_t_img.shape[0],0:overlay_t_img.shape[1]])"
   ]
  },
  {
   "cell_type": "code",
   "execution_count": 10,
   "metadata": {},
   "outputs": [
    {
     "data": {
      "text/plain": [
       "-1"
      ]
     },
     "execution_count": 10,
     "metadata": {},
     "output_type": "execute_result"
    }
   ],
   "source": [
    "facetmp= np.copy(frame)\n",
    "printImage2(frame,plane, random.randint(0, MAX_X),random.randint(0, MAX_Y))\n",
    "cv2.imshow('image',facetmp)\n",
    "cv2.waitKey()\n"
   ]
  },
  {
   "cell_type": "code",
   "execution_count": 11,
   "metadata": {},
   "outputs": [],
   "source": [
    "def draw_circle(event,x,y,flags,param):\n",
    "    if event == cv2.EVENT_LBUTTONDOWN:\n",
    "        #facetmp= np.copy(frame)\n",
    "        printImage2(frame,plane,random.randint(0, MAX_X),random.randint(0, MAX_Y))"
   ]
  },
  {
   "cell_type": "code",
   "execution_count": 12,
   "metadata": {},
   "outputs": [],
   "source": [
    "cv2.namedWindow('image')\n",
    "cv2.setMouseCallback('image',draw_circle)\n"
   ]
  },
  {
   "cell_type": "code",
   "execution_count": 13,
   "metadata": {},
   "outputs": [],
   "source": [
    "while(1):\n",
    "    cv2.imshow('image',facetmp)\n",
    "    k = cv2.waitKey(10)\n",
    "    if k == 27:\n",
    "        break"
   ]
  },
  {
   "cell_type": "code",
   "execution_count": null,
   "metadata": {},
   "outputs": [],
   "source": []
  }
 ],
 "metadata": {
  "kernelspec": {
   "display_name": "Python 3",
   "language": "python",
   "name": "python3"
  },
  "language_info": {
   "codemirror_mode": {
    "name": "ipython",
    "version": 3
   },
   "file_extension": ".py",
   "mimetype": "text/x-python",
   "name": "python",
   "nbconvert_exporter": "python",
   "pygments_lexer": "ipython3",
   "version": "3.6.5"
  }
 },
 "nbformat": 4,
 "nbformat_minor": 2
}
